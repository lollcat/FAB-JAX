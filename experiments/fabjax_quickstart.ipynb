{
  "cells": [
    {
      "cell_type": "markdown",
      "metadata": {
        "id": "view-in-github",
        "colab_type": "text"
      },
      "source": [
        "<a href=\"https://colab.research.google.com/github/lollcat/fab-jax/blob/eval/experiments/fabjax_quickstart.ipynb\" target=\"_parent\"><img src=\"https://colab.research.google.com/assets/colab-badge.svg\" alt=\"Open In Colab\"/></a>"
      ]
    },
    {
      "cell_type": "markdown",
      "metadata": {
        "id": "ivU_ZSMSkgDP"
      },
      "source": [
        "# Install fab-jax library"
      ]
    },
    {
      "cell_type": "code",
      "execution_count": null,
      "metadata": {
        "id": "TM7IGJfSkCES"
      },
      "outputs": [],
      "source": [
        "!git clone https://github.com/lollcat/fab-jax.git"
      ]
    },
    {
      "cell_type": "code",
      "execution_count": null,
      "metadata": {
        "id": "MzV-rS3skHyR"
      },
      "outputs": [],
      "source": [
        "import os\n",
        "os.listdir()\n",
        "os.chdir(\"fab-jax\")\n",
        "os.listdir()"
      ]
    },
    {
      "cell_type": "code",
      "execution_count": null,
      "metadata": {
        "id": "uTyEF03-kbaT"
      },
      "outputs": [],
      "source": [
        "!pip install -e ."
      ]
    },
    {
      "cell_type": "markdown",
      "metadata": {
        "id": "5J_1C2LKkmDJ"
      },
      "source": [
        "# Run code\n",
        "To run the experiments, I reccomend using the commands in the repo's README, with the Wandb logger. However, in this notebook I show how to run the experiments with the list-logger, additionally this visualizes the performance of the flow/AIS during the training run."
      ]
    },
    {
      "cell_type": "code",
      "source": [
        "# Restart the notebook after the install and then run the code from here.\n",
        "import os\n",
        "os.listdir()\n",
        "os.chdir(\"fab-jax\")\n",
        "os.listdir()"
      ],
      "metadata": {
        "id": "YIEJQEJAzrX8"
      },
      "execution_count": null,
      "outputs": []
    },
    {
      "cell_type": "code",
      "execution_count": null,
      "metadata": {
        "id": "Ftr4LUTokqZV"
      },
      "outputs": [],
      "source": [
        "from hydra import compose, initialize\n",
        "import jax\n",
        "import jax.numpy as jnp\n",
        "import chex\n",
        "import matplotlib.pyplot as plt\n",
        "\n",
        "from fabjax.targets.gmm_v1 import GaussianMixture2D as GMMV1\n",
        "from fabjax.targets.gmm_v0 import GMM as GMMV0\n",
        "from fabjax.targets.many_well import ManyWellEnergy\n",
        "from fabjax.targets.cox import CoxDist\n",
        "from fabjax.targets.funnel import FunnelSet\n",
        "from fabjax.sampling.resampling import log_effective_sample_size\n",
        "from fabjax.train.evaluate import calculate_log_forward_ess\n",
        "from fabjax.train.generic_training_loop import train\n",
        "\n",
        "from experiments.setup_training import setup_fab_config, setup_general_train_config"
      ]
    },
    {
      "cell_type": "code",
      "execution_count": null,
      "metadata": {
        "id": "IJMWGGnak-I1"
      },
      "outputs": [],
      "source": [
        "problem_names = [\"gmm_v0\", \"gmm_v1\", \"many_well\", \"cox\", \"funnel\"]\n",
        "\n",
        "problem_name = problem_names[1]\n",
        "\n",
        "with initialize(version_base=None, config_path=\"experiments/config\", job_name=\"colab_app\"):\n",
        "    cfg = compose(config_name=f\"{problem_name}\")\n",
        "\n",
        "# Replace Wandb logger with list logger.\n",
        "if \"logger\" in cfg.keys():\n",
        "    del cfg.logger"
      ]
    },
    {
      "cell_type": "code",
      "execution_count": null,
      "metadata": {
        "id": "b2BiFFGio7bO"
      },
      "outputs": [],
      "source": [
        "# Setup target distribution.\n",
        "if problem_name == \"gmm_v0\":\n",
        "  target = GMMV0()\n",
        "elif problem_name == \"gmm_v1\":\n",
        "  target = GMMV1(width_in_n_modes=cfg.target.width_in_n_modes)\n",
        "elif problem_name == \"many_well\":\n",
        "  # By default cfg.target.dim = 32. Can manually override this to make the problem easier/more challenging\n",
        "  target = ManyWellEnergy(dim=cfg.target.dim)\n",
        "elif problem_name == \"cox\":\n",
        "  # By default cfg.target.num_grid_per_dim = 40.\n",
        "  target = CoxDist(num_grid_per_dim=cfg.target.num_grid_per_dim)\n",
        "elif problem_name == \"funnel\":\n",
        "  target = FunnelSet()"
      ]
    },
    {
      "cell_type": "code",
      "execution_count": null,
      "metadata": {
        "id": "xpVJjQc8ntZ0"
      },
      "outputs": [],
      "source": [
        "full_run = True\n",
        "if not full_run:\n",
        "  cfg.training.n_epoch = cfg.training.n_epoch / 10"
      ]
    },
    {
      "cell_type": "code",
      "execution_count": null,
      "metadata": {
        "id": "O9K1NacrlZXj"
      },
      "outputs": [],
      "source": [
        "fab_config = setup_fab_config(cfg, target)\n",
        "experiment_config = setup_general_train_config(fab_config)\n",
        "logger, state = train(experiment_config)"
      ]
    },
    {
      "cell_type": "code",
      "execution_count": null,
      "metadata": {
        "id": "_Pal1L2_mueL"
      },
      "outputs": [],
      "source": [
        "# Print error in estimate of log_Z estimation via importance sampling with the flow.\n",
        "# See the final plot in the above cell, and logger.history.keys() for more evaluation metrics (such as forward and reverse effective sample size).\n",
        "logger.history['mean_abs_err_log_z_flow']"
      ]
    },
    {
      "cell_type": "markdown",
      "source": [
        "# Manually perform forward pass of flow and AIS.\n",
        "\n",
        "This code just shows a simple example of running some inference and evaluation. See [here](https://github.com/lollcat/fab-jax/blob/32d4d6521203e39384bdea674b19ea2d58455446/experiments/setup_training.py#L235) for the proper evaluation code used throughout training."
      ],
      "metadata": {
        "id": "neDkenCxD9Fm"
      }
    },
    {
      "cell_type": "code",
      "source": [
        "# Sample and log prob from flow\n",
        "key = jax.random.PRNGKey(0)\n",
        "key1, key2 = jax.random.split(key)\n",
        "n_samples = 128\n",
        "\n",
        "def log_q_fn(x: chex.Array) -> chex.Array:\n",
        "    return fab_config.flow.log_prob_apply(state.flow_params, x)\n",
        "\n",
        "# Sample from flow.\n",
        "x_flow, log_q_flow = fab_config.flow.sample_and_log_prob_apply(state.flow_params, key1, (n_samples,))\n",
        "log_w_flow = fab_config.log_p_fn(x_flow) - log_q_flow # Importance weights\n",
        "\n",
        "point, log_w_ais, smc_state, smc_info = fab_config.ais_eval.step(x_flow, state.smc_state, log_q_fn, fab_config.log_p_fn)\n",
        "x_ais = point.x"
      ],
      "metadata": {
        "id": "H3tVJgqBzISG"
      },
      "execution_count": null,
      "outputs": []
    },
    {
      "cell_type": "code",
      "source": [
        "# Sample from target (in this case we have access to ground truth samples).\n",
        "x_target = target.sample(key2, (n_samples,))"
      ],
      "metadata": {
        "id": "U-cLPiUbFFPX"
      },
      "execution_count": null,
      "outputs": []
    },
    {
      "cell_type": "code",
      "source": [
        "# Plot marginal for first two dimensions.\n",
        "plt.plot(x_flow[:, 0], x_flow[:, 1], \"o\", label=\"flow samples\")\n",
        "plt.plot(x_ais[:, 0], x_ais[:, 1], \"o\", label=\"AIS samples\")\n",
        "plt.plot(x_target[:, 0], x_target[:, 1], \"o\", label=\"target samples\")\n",
        "plt.legend()\n",
        "plt.show()"
      ],
      "metadata": {
        "id": "hpHdk20BD07D"
      },
      "execution_count": null,
      "outputs": []
    },
    {
      "cell_type": "code",
      "source": [
        "\n",
        "\n",
        "# Accuracy is estimation of log_Z (with n_samples).\n",
        "log_z_flow = jax.nn.logsumexp(log_w_flow, axis=-1) - jnp.log(n_samples)\n",
        "log_z_ais = jax.nn.logsumexp(log_w_ais, axis=-1) - jnp.log(n_samples)\n",
        "abs_err_log_z_flow = jnp.abs(log_z_flow - target.log_Z)\n",
        "abs_err_log_z_ais = jnp.abs(log_z_ais - target.log_Z)\n",
        "\n",
        "# Reverse ESS.\n",
        "reverse_ess_flow = jnp.exp(log_effective_sample_size(log_w_flow))\n",
        "reverse_ess_ais = jnp.exp(log_effective_sample_size(log_w_ais))\n",
        "\n",
        "# Forward ESS.\n",
        "log_w_fwd = target.log_prob(x_target) - fab_config.flow.log_prob_apply(state.flow_params, x_target)\n",
        "fwd_ess = jnp.exp(calculate_log_forward_ess(log_w_fwd))\n",
        "\n",
        "print(f\"log_Z abs error flow: {(abs_err_log_z_flow):.3f} %\")\n",
        "print(f\"log_Z abs error ais: {(abs_err_log_z_ais):.3f} %\")\n",
        "print(f\"Reverse ESS flow: {(reverse_ess_flow*100):.2f} %\")\n",
        "print(f\"Reverse ESS AIS: {(reverse_ess_ais*100):.2f} %\")\n",
        "print(f\"Forward ESS flow: {(fwd_ess*100):.2f} %\")"
      ],
      "metadata": {
        "id": "Ko1M-gt3Dnmc"
      },
      "execution_count": null,
      "outputs": []
    },
    {
      "cell_type": "code",
      "source": [],
      "metadata": {
        "id": "wDolrAjVK9lC"
      },
      "execution_count": null,
      "outputs": []
    },
    {
      "cell_type": "code",
      "source": [],
      "metadata": {
        "id": "RhZs6L5wNvql"
      },
      "execution_count": null,
      "outputs": []
    }
  ],
  "metadata": {
    "colab": {
      "provenance": [],
      "gpuType": "T4",
      "authorship_tag": "ABX9TyMpI2zw2Q18OAcIwrVOWWgX",
      "include_colab_link": true
    },
    "kernelspec": {
      "display_name": "Python 3",
      "name": "python3"
    },
    "language_info": {
      "name": "python"
    },
    "accelerator": "GPU"
  },
  "nbformat": 4,
  "nbformat_minor": 0
}