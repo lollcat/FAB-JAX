{
  "cells": [
    {
      "cell_type": "markdown",
      "metadata": {
        "id": "view-in-github",
        "colab_type": "text"
      },
      "source": [
        "<a href=\"https://colab.research.google.com/github/lollcat/fab-jax/blob/main/experiments/fabjax_quickstart.ipynb\" target=\"_parent\"><img src=\"https://colab.research.google.com/assets/colab-badge.svg\" alt=\"Open In Colab\"/></a>"
      ]
    },
    {
      "cell_type": "markdown",
      "metadata": {
        "id": "ivU_ZSMSkgDP"
      },
      "source": [
        "# Install fab-jax library"
      ]
    },
    {
      "cell_type": "code",
      "execution_count": null,
      "metadata": {
        "id": "TM7IGJfSkCES"
      },
      "outputs": [],
      "source": [
        "!git clone https://github.com/lollcat/fab-jax.git"
      ]
    },
    {
      "cell_type": "code",
      "execution_count": null,
      "metadata": {
        "id": "MzV-rS3skHyR"
      },
      "outputs": [],
      "source": [
        "import os\n",
        "os.listdir()\n",
        "os.chdir(\"fab-jax\")\n",
        "os.listdir()"
      ]
    },
    {
      "cell_type": "code",
      "execution_count": null,
      "metadata": {
        "id": "uTyEF03-kbaT"
      },
      "outputs": [],
      "source": [
        "!pip install -e ."
      ]
    },
    {
      "cell_type": "markdown",
      "metadata": {
        "id": "5J_1C2LKkmDJ"
      },
      "source": [
        "# Run code\n",
        "To run the experiments, I reccomend using the commands in the repo's README, with the Wandb logger. However, in this notebook I show how to run the experiments with the list-logger, additionally this visualizes the performance of the flow/AIS during the training run."
      ]
    },
    {
      "cell_type": "code",
      "source": [
        "# Restart the notebook after the install and then run the code from here.\n",
        "import os\n",
        "os.listdir()\n",
        "os.chdir(\"fab-jax\")\n",
        "os.listdir()"
      ],
      "metadata": {
        "id": "YIEJQEJAzrX8"
      },
      "execution_count": null,
      "outputs": []
    },
    {
      "cell_type": "code",
      "execution_count": null,
      "metadata": {
        "id": "Ftr4LUTokqZV"
      },
      "outputs": [],
      "source": [
        "from hydra import compose, initialize\n",
        "import jax\n",
        "\n",
        "from fabjax.train.generic_training_loop import train\n",
        "\n",
        "from experiments.setup_training import setup_fab_config, setup_general_train_config\n",
        "\n",
        "from fabjax.targets.gmm_v1 import GaussianMixture2D as GMMV1\n",
        "from fabjax.targets.gmm_v0 import GMM as GMMV0\n",
        "from fabjax.targets.many_well import ManyWellEnergy\n",
        "from fabjax.targets.cox import CoxDist\n",
        "from fabjax.targets.funnel import FunnelSet"
      ]
    },
    {
      "cell_type": "code",
      "execution_count": null,
      "metadata": {
        "id": "IJMWGGnak-I1"
      },
      "outputs": [],
      "source": [
        "problem_names = [\"gmm_v0\", \"gmm_v1\", \"many_well\", \"cox\", \"funnel\"]\n",
        "\n",
        "problem_name = problem_names[1]\n",
        "\n",
        "with initialize(version_base=None, config_path=\"experiments/config\", job_name=\"colab_app\"):\n",
        "    cfg = compose(config_name=f\"{problem_name}\")\n",
        "\n",
        "# Replace Wandb logger with list logger.\n",
        "if \"logger\" in cfg.keys():\n",
        "    del cfg.logger"
      ]
    },
    {
      "cell_type": "code",
      "execution_count": null,
      "metadata": {
        "id": "b2BiFFGio7bO"
      },
      "outputs": [],
      "source": [
        "# Setup target distribution.\n",
        "if problem_name == \"gmm_v0\":\n",
        "  target = GMMV0()\n",
        "elif problem_name == \"gmm_v1\":\n",
        "  target = GMMV1(width_in_n_modes=cfg.target.width_in_n_modes)\n",
        "elif problem_name == \"many_well\":\n",
        "  # By default cfg.target.dim = 32. Can manually override this to make the problem easier/more challenging\n",
        "  target = ManyWellEnergy(dim=cfg.target.dim)\n",
        "elif problem_name == \"cox\":\n",
        "  # By default cfg.target.num_grid_per_dim = 40.\n",
        "  target = CoxDist(num_grid_per_dim=cfg.target.num_grid_per_dim)\n",
        "elif problem_name == \"funnel\":\n",
        "  target = FunnelSet()"
      ]
    },
    {
      "cell_type": "code",
      "execution_count": null,
      "metadata": {
        "id": "xpVJjQc8ntZ0"
      },
      "outputs": [],
      "source": [
        "full_run = True\n",
        "if not full_run:\n",
        "  cfg.training.n_epoch = cfg.training.n_epoch / 10"
      ]
    },
    {
      "cell_type": "code",
      "execution_count": null,
      "metadata": {
        "id": "O9K1NacrlZXj"
      },
      "outputs": [],
      "source": [
        "fab_config = setup_fab_config(cfg, target)\n",
        "experiment_config = setup_general_train_config(fab_config)\n",
        "logger, state = train(experiment_config)"
      ]
    },
    {
      "cell_type": "code",
      "execution_count": null,
      "metadata": {
        "id": "_Pal1L2_mueL"
      },
      "outputs": [],
      "source": [
        "# Print error in estimate of log_Z estimation via importance sampling with the flow.\n",
        "# See the final plot in the above cell, and logger.history.keys() for more evaluation metrics (such as forward and reverse effective sample size).\n",
        "logger.history['mean_abs_err_log_z_flow']"
      ]
    },
    {
      "cell_type": "code",
      "source": [],
      "metadata": {
        "id": "H3tVJgqBzISG"
      },
      "execution_count": null,
      "outputs": []
    }
  ],
  "metadata": {
    "colab": {
      "provenance": [],
      "gpuType": "T4",
      "authorship_tag": "ABX9TyOXEndNM2ntPM1p5uPUOU++",
      "include_colab_link": true
    },
    "kernelspec": {
      "display_name": "Python 3",
      "name": "python3"
    },
    "language_info": {
      "name": "python"
    },
    "accelerator": "GPU"
  },
  "nbformat": 4,
  "nbformat_minor": 0
}